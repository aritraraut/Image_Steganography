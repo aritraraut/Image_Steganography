{
 "cells": [
  {
   "cell_type": "code",
   "execution_count": 1,
   "metadata": {},
   "outputs": [],
   "source": [
    "from PIL import Image\n",
    "\n",
    "def dtrminerange(a,b):#determinning the difference b/w two adjacent pixels\n",
    "    if(abs(a-b)<16):\n",
    "        return 0\n",
    "    elif(abs(a-b)>=16)and(abs(a-b)<32):\n",
    "        return 1\n",
    "    elif(abs(a-b)>=32):\n",
    "        return 2\n",
    "\n",
    "lt=[]\n",
    "def decode_pvd(d1,i,lst,l):\n",
    "    l=[]\n",
    "    l.append(format(lst[i],'08b'))\n",
    "    l.append(format(lst[i+1],'08b'))\n",
    "    \n",
    "    for j in range(0,2):\n",
    "        for u in range(-3,0):\n",
    "            lt.append(l[j][u])\n",
    "            if(len(lt)==l):\n",
    "                break\n",
    "    \n",
    "\n",
    "def decode():\n",
    "    img=Image.open('pvd_steg.png')\n",
    "    L=list(img.getdata())\n",
    "    #getting the length of the secret data and storing it in l\n",
    "    length=[]\n",
    "    l=0\n",
    "    for j in range(-8,0):\n",
    "        length.append(L[j]%2)\n",
    "    for j in range(0,8):\n",
    "        l=l+length[j]*pow(2,7-j)\n",
    "        \n",
    "    #getting the secret message\n",
    "    i=0\n",
    "    while(len(lt)<l*8):\n",
    "        d1=dtrminerange(L[i],L[i+1])\n",
    "        if(d1==0):\n",
    "            decode_pvd(3,i,L,l)\n",
    "        elif(d1==1):\n",
    "            decode_pvd(4,i,L,l)\n",
    "        elif(d1==2):\n",
    "            decode_pvd(5,i,L,l)\n",
    "        i=i+2 \n",
    "    \n",
    "    print('the secret message is:',end='')\n",
    "    flag=0\n",
    "    while flag<l:\n",
    "        counter=0\n",
    "        k=0\n",
    "        while counter<8:\n",
    "            k=k+int(lt[0])*pow(2,7-counter)\n",
    "            lt.pop(0)\n",
    "            counter=counter+1\n",
    "        flag=flag+1\n",
    "        print(chr(k),end='')\n",
    "        "
   ]
  },
  {
   "cell_type": "code",
   "execution_count": 2,
   "metadata": {},
   "outputs": [
    {
     "name": "stdout",
     "output_type": "stream",
     "text": [
      "the secret message is:aritra raut"
     ]
    }
   ],
   "source": [
    "decode()"
   ]
  },
  {
   "cell_type": "code",
   "execution_count": null,
   "metadata": {},
   "outputs": [],
   "source": []
  }
 ],
 "metadata": {
  "kernelspec": {
   "display_name": "Python 3",
   "language": "python",
   "name": "python3"
  },
  "language_info": {
   "codemirror_mode": {
    "name": "ipython",
    "version": 3
   },
   "file_extension": ".py",
   "mimetype": "text/x-python",
   "name": "python",
   "nbconvert_exporter": "python",
   "pygments_lexer": "ipython3",
   "version": "3.6.0"
  }
 },
 "nbformat": 4,
 "nbformat_minor": 4
}
