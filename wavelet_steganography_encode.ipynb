{
  "nbformat": 4,
  "nbformat_minor": 0,
  "metadata": {
    "kernelspec": {
      "display_name": "Python 3",
      "language": "python",
      "name": "python3"
    },
    "language_info": {
      "codemirror_mode": {
        "name": "ipython",
        "version": 3
      },
      "file_extension": ".py",
      "mimetype": "text/x-python",
      "name": "python",
      "nbconvert_exporter": "python",
      "pygments_lexer": "ipython3",
      "version": "3.7.3"
    },
    "colab": {
      "name": "wavelet_steganography_encode.ipynb",
      "provenance": [],
      "collapsed_sections": []
    }
  },
  "cells": [
    {
      "cell_type": "markdown",
      "metadata": {
        "id": "2jTdn2dZJzOR"
      },
      "source": [
        "## **Wavelet steganography encode (only on binary images)**\n",
        "\n"
      ]
    },
    {
      "cell_type": "code",
      "metadata": {
        "id": "o525XWRBI4Fb"
      },
      "source": [
        "import numpy as np\n",
        "import matplotlib.pyplot as plt\n",
        "import pywt\n",
        "import pywt.data\n",
        "from PIL import Image\n",
        "import math"
      ],
      "execution_count": 2,
      "outputs": []
    },
    {
      "cell_type": "markdown",
      "metadata": {
        "id": "kiZuMB77NGK7"
      },
      "source": [
        "Breaking the image into four parts using integer wavelet transformation ::: "
      ]
    },
    {
      "cell_type": "code",
      "metadata": {
        "id": "uPvRrNJUI4Ff"
      },
      "source": [
        "def for_int_to_int(img):\n",
        "    l=list(img.getdata())\n",
        "    w=img.size[0]\n",
        "    h=img.size[1]\n",
        "    new_data=[]\n",
        "\n",
        "    for i in range(h):\n",
        "        row=[]\n",
        "        for j in range(w):\n",
        "            row.append(int(l[(w*i)+j]))\n",
        "        \n",
        "        length=math.floor(int(len(row))/2)\n",
        "        a=[0]*length\n",
        "        d=[0]*length\n",
        "    \n",
        "        for k in range(length):\n",
        "            a[k]=math.floor((row[2*k]+row[(2*k)+1])/2)\n",
        "            d[k]=row[2*k]-row[(2*k)+1]\n",
        "        for y in range(length):\n",
        "            new_data.append(int(a[y]))\n",
        "        for y in range(length):\n",
        "            new_data.append(int(d[y]))\n",
        "\n",
        "\n",
        "    for i in range(h):\n",
        "        for j in range(w):\n",
        "            img.putpixel((j,i),int(new_data[(i*w)+j]))\n",
        "                      \n",
        "    img.save('row_frwrd.png')# result of low and high pass filter row wise\n",
        "    img=Image.open('row_frwrd.png')       \n",
        "    l=list(img.getdata())\n",
        "\n",
        "    for i in range(w):\n",
        "        col=[]\n",
        "        for j in range(h):\n",
        "            col.append(int(l[(w*j)+i]))\n",
        "        \n",
        "        length=math.floor(int(len(col))/2)\n",
        "        a=[0]*length\n",
        "        b=[0]*length\n",
        "    \n",
        "        for k in range(length):\n",
        "            a[k]=math.floor((col[2*k]+col[(2*k)+1])/2)\n",
        "            d[k]=col[2*k]-col[(2*k)+1]\n",
        "        for u in range(length):\n",
        "            img.putpixel((i,u),int(a[u]))\n",
        "            img.putpixel((i,u+length),int(d[u]))   \n",
        "\n",
        "    img.save('w.png') # in 'w.png' we can see the four parts of the macao image after the wavelet transformation(got by applying low and high pas filter on 'row_frwrd')"
      ],
      "execution_count": 3,
      "outputs": []
    },
    {
      "cell_type": "markdown",
      "metadata": {
        "id": "v9X1S2oTNWtO"
      },
      "source": [
        "encoding the data using simple lsb method into the l-l(low-low) component of the image :::"
      ]
    },
    {
      "cell_type": "code",
      "metadata": {
        "id": "V-0lgBqQI4Fg"
      },
      "source": [
        "def lsb_steg(datalist,data):\n",
        "    l=format(len(data),'08b')\n",
        "    for i in range(-8,0):\n",
        "        if int(l[i])==1 and datalist[i]%2==0:\n",
        "            datalist[i]=datalist[i]+1\n",
        "        elif int(l[i])==0 and datalist[i]%2==1:\n",
        "            datalist[i]=datalist[i]+1\n",
        "            \n",
        "    for j in range(len(data)):\n",
        "        l=format(ord(data[j]),'08b')       \n",
        "        for i in range(8):\n",
        "            if int(l[i])==1 and datalist[j*8+i]%2==0:\n",
        "                datalist[j*8+i]=datalist[j*8+i]+1\n",
        "            elif int(l[i])==0 and datalist[j*8+i]%2==1:\n",
        "                datalist[j*8+i]=datalist[j*8+i]+1"
      ],
      "execution_count": 4,
      "outputs": []
    },
    {
      "cell_type": "markdown",
      "metadata": {
        "id": "IzbVPurbO4Q-"
      },
      "source": [
        "reconstruction of the image after encoding the data :::"
      ]
    },
    {
      "cell_type": "code",
      "metadata": {
        "id": "k-8NW2J6I4Fh"
      },
      "source": [
        "def inv_int_to_int(img):\n",
        "    w=img.size[0]\n",
        "    h=img.size[1]\n",
        "    l=list(img.getdata())\n",
        "\n",
        "    for i in range(w):\n",
        "        col=[]\n",
        "        for j in range(h):\n",
        "            col.append(int(l[(w*j)+i]))\n",
        "            \n",
        "        length=math.floor(int(len(col))/2)\n",
        "        a=[0]*length\n",
        "        d=[0]*length\n",
        "        for u in range(length):\n",
        "            a[u]=col[u]\n",
        "            d[u]=col[u+length]\n",
        "        x=[0]*len(col)\n",
        "        for k in range(length):\n",
        "            x[2*k]=int(a[k])+math.floor((int(d[k])+1)/2)\n",
        "            x[(2*k)+1]=int(x[2*k])-int(d[k])\n",
        "            \n",
        "        for v in range(h):\n",
        "            img.putpixel((i,v),int(x[v]))\n",
        "    img.save('col_bkwrd.png')        \n",
        "    \n",
        "    img=Image.open('col_bkwrd.png')\n",
        "    l=list(img.getdata())\n",
        "    for i in range(h):\n",
        "        row=[]\n",
        "        for j in range(w):\n",
        "            row.append(int(l[(i*w)+j]))\n",
        "        \n",
        "        length=math.floor(int(len(row))/2)\n",
        "        a=[0]*length\n",
        "        d=[0]*length\n",
        "        for u in range(length):\n",
        "            a[u]=row[u]\n",
        "            d[u]=row[length+u]\n",
        "        x=[0]*len(row)\n",
        "        for k in range(length):\n",
        "            x[2*k]=int(a[k])+math.floor((int(d[k])+1)/2)\n",
        "            x[(2*k)+1]=int(x[2*k])-int(d[k])\n",
        "        \n",
        "        for v in range(w):\n",
        "            img.putpixel((v,i),int(x[v]))\n",
        "    \n",
        "    \n",
        "    img.save('winv.png')"
      ],
      "execution_count": 5,
      "outputs": []
    },
    {
      "cell_type": "markdown",
      "metadata": {
        "id": "OiAz8YTKNB6t"
      },
      "source": [
        "main function :::"
      ]
    },
    {
      "cell_type": "code",
      "metadata": {
        "id": "KIz-7OXlI4Fi"
      },
      "source": [
        "def main(image):\n",
        "    img=Image.open(image)\n",
        "    data='nilabjanayan bera'\n",
        "    \n",
        "    for_int_to_int(img)\n",
        "    nimg=Image.open('w.png')\n",
        "    datalist=[]\n",
        "    l=list(nimg.getdata())\n",
        "    w=nimg.size[0]\n",
        "    h=nimg.size[1]\n",
        "    for i in range(math.floor(h/2)):\n",
        "        for j in range(math.floor(w/2),w):\n",
        "            datalist.append(l[(i*w)+j])       \n",
        "    \n",
        "    lsb_steg(datalist,data)\n",
        "    \n",
        "    key=0\n",
        "    for i in range(math.floor(h/2)):\n",
        "        for j in range(math.floor(w/2),w):\n",
        "            nimg.putpixel((j,i),datalist[key])\n",
        "            key=key+1\n",
        "    nimg.save('w1.png')               \n",
        "    \n",
        "    img=Image.open('w1.png')\n",
        "    inv_int_to_int(img)\n",
        "    \n",
        "\n",
        "    "
      ],
      "execution_count": 11,
      "outputs": []
    },
    {
      "cell_type": "code",
      "metadata": {
        "id": "-Lqlrq7tI4Fi"
      },
      "source": [
        "main('macao.png')"
      ],
      "execution_count": 13,
      "outputs": []
    },
    {
      "cell_type": "code",
      "metadata": {
        "id": "jKF6NJI5I4Fl"
      },
      "source": [
        ""
      ],
      "execution_count": null,
      "outputs": []
    }
  ]
}