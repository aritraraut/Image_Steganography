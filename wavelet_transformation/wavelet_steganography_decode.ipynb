{
  "nbformat": 4,
  "nbformat_minor": 0,
  "metadata": {
    "kernelspec": {
      "display_name": "Python 3",
      "language": "python",
      "name": "python3"
    },
    "language_info": {
      "codemirror_mode": {
        "name": "ipython",
        "version": 3
      },
      "file_extension": ".py",
      "mimetype": "text/x-python",
      "name": "python",
      "nbconvert_exporter": "python",
      "pygments_lexer": "ipython3",
      "version": "3.7.3"
    },
    "colab": {
      "name": "wavelet_steganography_decode.ipynb",
      "provenance": [],
      "collapsed_sections": []
    }
  },
  "cells": [
    {
      "cell_type": "code",
      "metadata": {
        "id": "kdneNeq_ItZj"
      },
      "source": [
        "import math\n",
        "from PIL import Image"
      ],
      "execution_count": 1,
      "outputs": []
    },
    {
      "cell_type": "code",
      "metadata": {
        "id": "Rpx1LgEZItZm"
      },
      "source": [
        "def for_int_to_int1(img):\n",
        "    l=list(img.getdata())\n",
        "    w=img.size[0]\n",
        "    h=img.size[1]\n",
        "    new_data=[]\n",
        "\n",
        "    for i in range(h):\n",
        "        row=[]\n",
        "        for j in range(w):\n",
        "            row.append(int(l[(w*i)+j]))\n",
        "        \n",
        "        length=math.floor(int(len(row))/2)\n",
        "        a=[0]*length\n",
        "        d=[0]*length\n",
        "    \n",
        "        for k in range(length):\n",
        "            a[k]=math.floor((row[2*k]+row[(2*k)+1])/2)\n",
        "            d[k]=row[2*k]-row[(2*k)+1]\n",
        "        for y in range(length):\n",
        "            new_data.append(int(a[y]))\n",
        "        for y in range(length):\n",
        "            new_data.append(int(d[y]))\n",
        "\n",
        "\n",
        "    for i in range(h):\n",
        "        for j in range(w):\n",
        "            img.putpixel((j,i),int(new_data[(i*w)+j]))\n",
        "                      \n",
        "    img.save('row_frwrd_rtrvl.png')\n",
        "    img=Image.open('row_frwrd_rtrvl.png')       \n",
        "    l=list(img.getdata())\n",
        "\n",
        "    for i in range(w):\n",
        "        col=[]\n",
        "        for j in range(h):\n",
        "            col.append(int(l[(w*j)+i]))\n",
        "        \n",
        "        length=math.floor(int(len(col))/2)\n",
        "        a=[0]*length\n",
        "        b=[0]*length\n",
        "    \n",
        "        for k in range(length):\n",
        "            a[k]=math.floor((col[2*k]+col[(2*k)+1])/2)\n",
        "            d[k]=col[2*k]-col[(2*k)+1]\n",
        "        for u in range(length):\n",
        "            img.putpixel((i,u),int(a[u]))\n",
        "            img.putpixel((i,u+length),int(d[u]))   \n",
        "\n",
        "    img.save('w1.png')"
      ],
      "execution_count": 2,
      "outputs": []
    },
    {
      "cell_type": "code",
      "metadata": {
        "id": "YXX87tsfItZo"
      },
      "source": [
        "def main1():\n",
        "    img=Image.open('winv.png')\n",
        "    for_int_to_int1(img)\n",
        "    img=Image.open('w1.png')\n",
        "    l=img.getdata()\n",
        "    w=img.size[0]\n",
        "    h=img.size[1]\n",
        "    datalist=[]\n",
        "    \n",
        "    print('the length of the data is: ',end='')\n",
        "    for i in range(math.floor(h/2)):\n",
        "        for j in range(math.floor(w/2),w):\n",
        "            datalist.append(l[(w*i)+j])\n",
        "            \n",
        "    length=[]\n",
        "    for i in range(-8,0):\n",
        "        length.append(datalist[i]%2)\n",
        "    \n",
        "    L=0\n",
        "    for i in range(8):\n",
        "        L=L+length[i]*pow(2,7-i) \n",
        "    print(L)\n",
        "    \n",
        "    print('the data is: ',end='')\n",
        "    data=[]\n",
        "    for i in range(L):\n",
        "        d=[]\n",
        "        for j in range(8):\n",
        "            d.append(datalist[i*8+j]%2)\n",
        "        key=0\n",
        "        for k in range(8):\n",
        "            key=key+d[k]*pow(2,7-k)\n",
        "            \n",
        "        data.append(chr(key))    \n",
        "    \n",
        "    for i in range(len(data)):\n",
        "        print(data[i],end='')\n",
        "        "
      ],
      "execution_count": 3,
      "outputs": []
    },
    {
      "cell_type": "code",
      "metadata": {
        "id": "y2_pONF_ItZo",
        "colab": {
          "base_uri": "https://localhost:8080/"
        },
        "outputId": "9f994785-8e8f-4516-b798-7f5f8626ee2e"
      },
      "source": [
        "main1()"
      ],
      "execution_count": 5,
      "outputs": [
        {
          "output_type": "stream",
          "name": "stdout",
          "text": [
            "the length of the data is: 17\n",
            "the data is: nilabjanayan bera"
          ]
        }
      ]
    },
    {
      "cell_type": "code",
      "metadata": {
        "id": "9cZtW30tItZp"
      },
      "source": [
        ""
      ],
      "execution_count": null,
      "outputs": []
    }
  ]
}